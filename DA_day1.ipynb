{
  "nbformat": 4,
  "nbformat_minor": 0,
  "metadata": {
    "colab": {
      "provenance": []
    },
    "kernelspec": {
      "name": "python3",
      "display_name": "Python 3"
    },
    "language_info": {
      "name": "python"
    }
  },
  "cells": [
    {
      "cell_type": "markdown",
      "source": [
        "operators\n"
      ],
      "metadata": {
        "id": "mRJGSQ7Mr70p"
      }
    },
    {
      "cell_type": "code",
      "source": [
        "a=6\n",
        "b=5\n",
        "print(a==b)"
      ],
      "metadata": {
        "colab": {
          "base_uri": "https://localhost:8080/"
        },
        "id": "629ai4jGsuI4",
        "outputId": "7b3627a2-8a6f-4aa0-fdee-788bd745fdd8"
      },
      "execution_count": null,
      "outputs": [
        {
          "output_type": "stream",
          "name": "stdout",
          "text": [
            "False\n"
          ]
        }
      ]
    },
    {
      "cell_type": "markdown",
      "source": [
        "operator"
      ],
      "metadata": {
        "id": "dslu4LAFrzzE"
      }
    },
    {
      "cell_type": "code",
      "source": [
        "print((a>b) or (a<b))"
      ],
      "metadata": {
        "colab": {
          "base_uri": "https://localhost:8080/"
        },
        "id": "xuycVENYs-Pc",
        "outputId": "fd6844fd-cbed-403a-f440-d3510ae941af"
      },
      "execution_count": null,
      "outputs": [
        {
          "output_type": "stream",
          "name": "stdout",
          "text": [
            "True\n"
          ]
        }
      ]
    },
    {
      "cell_type": "code",
      "source": [],
      "metadata": {
        "id": "j8Gni-azugYo"
      },
      "execution_count": null,
      "outputs": []
    },
    {
      "cell_type": "markdown",
      "source": [
        "control flow\n"
      ],
      "metadata": {
        "id": "dTH10sxeu2yi"
      }
    },
    {
      "cell_type": "code",
      "source": [
        "#conditional if\n",
        "#write a program to get a number from the user and check whether it is positive or negative\n",
        "a=20\n",
        "if (a>0):\n",
        "  print(\"positive\")\n",
        "else\n",
        "  print(\"negative\")"
      ],
      "metadata": {
        "colab": {
          "base_uri": "https://localhost:8080/"
        },
        "id": "C_v6kww-u9wI",
        "outputId": "b6aae1a2-2e4b-4a84-e988-f210afba49ea"
      },
      "execution_count": null,
      "outputs": [
        {
          "output_type": "stream",
          "name": "stdout",
          "text": [
            "positive\n"
          ]
        }
      ]
    },
    {
      "cell_type": "code",
      "source": [
        "a=0\n",
        "if (a>0):\n",
        "  print(\"positive\")\n",
        "elif(a==0):\n",
        "  print(\"neutral\")\n",
        "else:\n",
        "  print(\"negative\")\n",
        "\n"
      ],
      "metadata": {
        "colab": {
          "base_uri": "https://localhost:8080/"
        },
        "id": "ueBCur5pyPba",
        "outputId": "c559782d-e586-4f81-de13-3765052e610e"
      },
      "execution_count": null,
      "outputs": [
        {
          "output_type": "stream",
          "name": "stdout",
          "text": [
            "neutral\n"
          ]
        }
      ]
    },
    {
      "cell_type": "markdown",
      "source": [
        "whilw loop"
      ],
      "metadata": {
        "id": "5Pz7eOHo6Omc"
      }
    },
    {
      "cell_type": "code",
      "source": [],
      "metadata": {
        "id": "5cUNqbV26QaF"
      },
      "execution_count": null,
      "outputs": []
    },
    {
      "cell_type": "markdown",
      "source": [],
      "metadata": {
        "id": "7Np2VjXp6RVC"
      }
    },
    {
      "cell_type": "markdown",
      "source": [
        "four table"
      ],
      "metadata": {
        "id": "O_TPqLBy6Rd0"
      }
    },
    {
      "cell_type": "code",
      "source": [
        "n=7\n",
        "for i in range (1,11,1):\n",
        "  a=n*i\n",
        "  print(a)"
      ],
      "metadata": {
        "colab": {
          "base_uri": "https://localhost:8080/"
        },
        "id": "ADeyxF8I6Tri",
        "outputId": "ddb6d960-92e1-442a-fd1f-d372192cd555"
      },
      "execution_count": null,
      "outputs": [
        {
          "output_type": "stream",
          "name": "stdout",
          "text": [
            "7\n",
            "14\n",
            "21\n",
            "28\n",
            "35\n",
            "42\n",
            "49\n",
            "56\n",
            "63\n",
            "70\n"
          ]
        }
      ]
    },
    {
      "cell_type": "markdown",
      "source": [
        "collection"
      ],
      "metadata": {
        "id": "PiQGGWE68UjO"
      }
    },
    {
      "cell_type": "markdown",
      "source": [
        "collections:\n",
        "list:\n",
        "heterogeneous\n",
        "mutable"
      ],
      "metadata": {
        "id": "EpbJqyCU9r7g"
      }
    },
    {
      "cell_type": "code",
      "source": [
        "l=[\"divya\",5,60.8]\n",
        "print(l)"
      ],
      "metadata": {
        "id": "cw14iC-a91SM",
        "colab": {
          "base_uri": "https://localhost:8080/"
        },
        "outputId": "9bf15273-4002-49d5-fbee-8f20f985b567"
      },
      "execution_count": null,
      "outputs": [
        {
          "output_type": "stream",
          "name": "stdout",
          "text": [
            "['divya', 5, 60.8]\n"
          ]
        }
      ]
    },
    {
      "cell_type": "code",
      "source": [
        "l=[]\n",
        "n=int(input(\"enter n\"))\n",
        "for x in range(n):\n",
        "  x=int(input(\"enter elements\"))\n",
        "  l.append(x)\n",
        "print(\"list is\",l)"
      ],
      "metadata": {
        "colab": {
          "base_uri": "https://localhost:8080/"
        },
        "id": "60wkEz558q-6",
        "outputId": "e9a5e779-fee8-4441-abc8-137526e77575"
      },
      "execution_count": null,
      "outputs": [
        {
          "output_type": "stream",
          "name": "stdout",
          "text": [
            "enter n5\n",
            "enter elements1\n",
            "enter elements2\n",
            "enter elements3\n",
            "enter elements4\n",
            "enter elements5\n",
            "list is [1, 2, 3, 4, 5]\n"
          ]
        }
      ]
    },
    {
      "cell_type": "code",
      "source": [
        "for i in l:\n",
        "  print(i)"
      ],
      "metadata": {
        "colab": {
          "base_uri": "https://localhost:8080/"
        },
        "id": "8hoRI3NI-XME",
        "outputId": "14ab0ebd-44c2-4c43-cb69-deaf1f378874"
      },
      "execution_count": null,
      "outputs": [
        {
          "output_type": "stream",
          "name": "stdout",
          "text": [
            "1\n",
            "2\n",
            "3\n",
            "4\n",
            "5\n"
          ]
        }
      ]
    },
    {
      "cell_type": "code",
      "source": [
        "\n",
        "l.insert(3,\"hai\")\n",
        "print(l)"
      ],
      "metadata": {
        "colab": {
          "base_uri": "https://localhost:8080/"
        },
        "id": "ZnXjrlSCAM88",
        "outputId": "9d5fd759-4aaa-44ea-806e-8b1ff9fbe4c1"
      },
      "execution_count": null,
      "outputs": [
        {
          "output_type": "stream",
          "name": "stdout",
          "text": [
            "[1, 2, 3, 'hai', 4, 5]\n"
          ]
        }
      ]
    },
    {
      "cell_type": "code",
      "source": [
        "l1=[\"divya\"]\n",
        "l2=[\"gopi\"]\n",
        "l1.extend(l2)\n",
        "print(l1)"
      ],
      "metadata": {
        "colab": {
          "base_uri": "https://localhost:8080/"
        },
        "id": "-rcEn0rEBb-7",
        "outputId": "24d3c342-cbf1-4333-d9b1-b55f53964fd0"
      },
      "execution_count": null,
      "outputs": [
        {
          "output_type": "stream",
          "name": "stdout",
          "text": [
            "['divya', 'gopi']\n"
          ]
        }
      ]
    },
    {
      "cell_type": "code",
      "source": [
        "l.pop(2)\n",
        "print(l)"
      ],
      "metadata": {
        "colab": {
          "base_uri": "https://localhost:8080/"
        },
        "id": "eM23gVuZCjyx",
        "outputId": "69d411e0-5d3b-423b-c15d-fb647679a945"
      },
      "execution_count": null,
      "outputs": [
        {
          "output_type": "stream",
          "name": "stdout",
          "text": [
            "[1, 2, 'hai', 4, 5]\n"
          ]
        }
      ]
    },
    {
      "cell_type": "code",
      "source": [
        "l.remove(1)\n",
        "print(l)"
      ],
      "metadata": {
        "colab": {
          "base_uri": "https://localhost:8080/"
        },
        "id": "NlNWvHcqDMVs",
        "outputId": "c819b707-858f-485d-f578-fc1db9ee67bf"
      },
      "execution_count": null,
      "outputs": [
        {
          "output_type": "stream",
          "name": "stdout",
          "text": [
            "[2, 4, 5]\n"
          ]
        }
      ]
    },
    {
      "cell_type": "code",
      "source": [
        "from pickle import LONG4\n",
        "l3=[2,3,4]\n",
        "l4=[i**2 for i in l3]\n",
        "print(l4)"
      ],
      "metadata": {
        "colab": {
          "base_uri": "https://localhost:8080/"
        },
        "id": "kIT_oDFxFrgh",
        "outputId": "fff288c5-1832-42f0-8f43-64e2ecf35534"
      },
      "execution_count": null,
      "outputs": [
        {
          "output_type": "stream",
          "name": "stdout",
          "text": [
            "[4, 9, 16]\n"
          ]
        }
      ]
    },
    {
      "cell_type": "code",
      "source": [
        "l3=[2,3,4]\n",
        "l4=[i**2 for i in l3 if i>3]\n",
        "print(l4)"
      ],
      "metadata": {
        "colab": {
          "base_uri": "https://localhost:8080/"
        },
        "id": "zBJZT_9qGXOn",
        "outputId": "526230b2-3995-471b-93d5-5c966d87e716"
      },
      "execution_count": null,
      "outputs": [
        {
          "output_type": "stream",
          "name": "stdout",
          "text": [
            "[16]\n"
          ]
        }
      ]
    },
    {
      "cell_type": "code",
      "source": [],
      "metadata": {
        "id": "XwvVdvxEHehY"
      },
      "execution_count": null,
      "outputs": []
    },
    {
      "cell_type": "markdown",
      "source": [
        "#the salaries of in a company is taken as a list.the tax is 10% if the salary is less than or =to 50000\n",
        "#[67000,45000,89000,34000]\n",
        "#listname=[(body of if)(condition) else (body of else) iterator] 5 employees"
      ],
      "metadata": {
        "id": "cCHsagKIJBEK"
      }
    },
    {
      "cell_type": "code",
      "source": [
        "sal=[45000,69000,71000,36000,96000]\n",
        "tax=[]\n",
        "for i in sal:\n",
        "  if i<=50000:\n",
        "    t=i*0.15\n",
        "    tax.append(t)\n",
        "  else:\n",
        "    t=i*0.15\n",
        "    tax.append(t)\n",
        "print(tax)"
      ],
      "metadata": {
        "colab": {
          "base_uri": "https://localhost:8080/"
        },
        "id": "2ngA6Qu3JCrk",
        "outputId": "0e2e462a-47f1-40e3-f8d4-a4ec7fdea235"
      },
      "execution_count": null,
      "outputs": [
        {
          "output_type": "stream",
          "name": "stdout",
          "text": [
            "[6750.0, 10350.0, 10650.0, 5400.0, 14400.0]\n"
          ]
        }
      ]
    },
    {
      "cell_type": "code",
      "source": [
        "sal=[45000,69000,71000,36000,96000]\n"
      ],
      "metadata": {
        "id": "CVfjJ16XLWfK"
      },
      "execution_count": null,
      "outputs": []
    },
    {
      "cell_type": "code",
      "source": [
        "a=5\n",
        "print(\"i am \",1,\"years old\")"
      ],
      "metadata": {
        "colab": {
          "base_uri": "https://localhost:8080/"
        },
        "id": "CRPPPqVkNFA5",
        "outputId": "7e6188d7-93a8-45b9-8ad4-afd8a9c666c1"
      },
      "execution_count": null,
      "outputs": [
        {
          "output_type": "stream",
          "name": "stdout",
          "text": [
            "i am  1 years old\n"
          ]
        }
      ]
    },
    {
      "cell_type": "code",
      "source": [
        "#arithematic\n",
        "a=5\n",
        "b=25\n",
        "print(a+b)\n",
        "print(a-b)\n",
        "print(a*b)\n",
        "print(a//b)\n",
        "print(a%b)\n",
        "print(b**a)"
      ],
      "metadata": {
        "colab": {
          "base_uri": "https://localhost:8080/"
        },
        "id": "qlkGq_CozD4D",
        "outputId": "560b6270-2d90-439a-dbf7-c5a3e8f86ebc"
      },
      "execution_count": null,
      "outputs": [
        {
          "output_type": "stream",
          "name": "stdout",
          "text": [
            "30\n",
            "-20\n",
            "125\n",
            "0\n",
            "5\n",
            "9765625\n"
          ]
        }
      ]
    },
    {
      "cell_type": "code",
      "source": [
        "#relational\n",
        "a=10\n",
        "b=20\n",
        "print(a==b)\n",
        "print(a>b)\n",
        "print(a<b)\n",
        "print(a!=b)\n",
        "print(a<=b)\n",
        "print(a>=b)"
      ],
      "metadata": {
        "colab": {
          "base_uri": "https://localhost:8080/"
        },
        "id": "M4ZFUy7r8IKN",
        "outputId": "f0248b18-48d3-45df-c451-596bd23ca304"
      },
      "execution_count": null,
      "outputs": [
        {
          "output_type": "stream",
          "name": "stdout",
          "text": [
            "False\n",
            "False\n",
            "True\n",
            "True\n",
            "True\n",
            "False\n"
          ]
        }
      ]
    },
    {
      "cell_type": "code",
      "source": [
        "#logical\n",
        "a=16\n",
        "b=18\n",
        "print((a>b) and (a<b))\n",
        "print((a>b) or (a<b))\n"
      ],
      "metadata": {
        "id": "ReHxdU0_87wl",
        "colab": {
          "base_uri": "https://localhost:8080/"
        },
        "outputId": "6c274adb-ca18-46ee-f9dc-a1a4c5dc1891"
      },
      "execution_count": null,
      "outputs": [
        {
          "output_type": "stream",
          "name": "stdout",
          "text": [
            "False\n",
            "True\n"
          ]
        }
      ]
    },
    {
      "cell_type": "code",
      "source": [],
      "metadata": {
        "id": "CVcIGu0FvsvD"
      },
      "execution_count": null,
      "outputs": []
    },
    {
      "cell_type": "code",
      "source": [
        "a=\"divya\"\n",
        "print(\"a\"in a)\n",
        "print(\"b\"in a)\n"
      ],
      "metadata": {
        "colab": {
          "base_uri": "https://localhost:8080/"
        },
        "id": "vbPc7_oxvs2d",
        "outputId": "68b45f25-7b26-437c-e6f5-886a5e9de4b1"
      },
      "execution_count": null,
      "outputs": [
        {
          "output_type": "stream",
          "name": "stdout",
          "text": [
            "True\n",
            "False\n"
          ]
        }
      ]
    },
    {
      "cell_type": "code",
      "source": [
        "a=12.7\n",
        "b=9\n",
        "print(a*b)"
      ],
      "metadata": {
        "colab": {
          "base_uri": "https://localhost:8080/"
        },
        "id": "3fYxkoP2r7mz",
        "outputId": "08b7d72d-013b-48eb-d849-0f128c22123d"
      },
      "execution_count": null,
      "outputs": [
        {
          "output_type": "stream",
          "name": "stdout",
          "text": [
            "114.3\n"
          ]
        }
      ]
    },
    {
      "cell_type": "code",
      "source": [
        "a=11.9\n",
        "b=2\n",
        "print(int(a*b))"
      ],
      "metadata": {
        "colab": {
          "base_uri": "https://localhost:8080/"
        },
        "id": "QEcVQpzRyE1F",
        "outputId": "7e6ed42b-d016-452d-b2de-d205e2518a74"
      },
      "execution_count": null,
      "outputs": [
        {
          "output_type": "stream",
          "name": "stdout",
          "text": [
            "23\n"
          ]
        }
      ]
    },
    {
      "cell_type": "code",
      "source": [
        "a=\"7\"\n",
        "a=int(a)\n",
        "print(type(a))"
      ],
      "metadata": {
        "colab": {
          "base_uri": "https://localhost:8080/"
        },
        "id": "bRs9X5jLySpt",
        "outputId": "9781605d-1627-4cb8-d6a8-e5fb7c43d5e8"
      },
      "execution_count": null,
      "outputs": [
        {
          "output_type": "stream",
          "name": "stdout",
          "text": [
            "<class 'int'>\n"
          ]
        }
      ]
    },
    {
      "cell_type": "code",
      "source": [
        "a=\"hello world\"\n",
        "print(a[0:6])"
      ],
      "metadata": {
        "colab": {
          "base_uri": "https://localhost:8080/"
        },
        "id": "R95fziHk1hWp",
        "outputId": "4bc549e2-9ab3-42e2-f9f9-5fef93c94955"
      },
      "execution_count": null,
      "outputs": [
        {
          "output_type": "stream",
          "name": "stdout",
          "text": [
            "hello \n"
          ]
        }
      ]
    },
    {
      "cell_type": "code",
      "source": [
        "print(a[::-1])"
      ],
      "metadata": {
        "colab": {
          "base_uri": "https://localhost:8080/"
        },
        "id": "iYgFVu5w1ylI",
        "outputId": "8a00c83b-969c-4d3d-a968-4e8d7845837b"
      },
      "execution_count": null,
      "outputs": [
        {
          "output_type": "stream",
          "name": "stdout",
          "text": [
            "dlrow olleh\n"
          ]
        }
      ]
    },
    {
      "cell_type": "code",
      "source": [
        "print(a[::2])"
      ],
      "metadata": {
        "id": "wbGW8cCT13kE",
        "outputId": "89159bb2-09d2-4c45-da82-5925ac324b10",
        "colab": {
          "base_uri": "https://localhost:8080/"
        }
      },
      "execution_count": null,
      "outputs": [
        {
          "output_type": "stream",
          "name": "stdout",
          "text": [
            "hlowrd\n"
          ]
        }
      ]
    }
  ]
}